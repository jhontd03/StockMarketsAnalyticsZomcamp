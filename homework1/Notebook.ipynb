{
 "cells": [
  {
   "cell_type": "markdown",
   "metadata": {},
   "source": [
    "# Module 1 Homework"
   ]
  },
  {
   "cell_type": "code",
   "execution_count": 1,
   "metadata": {},
   "outputs": [],
   "source": [
    "# install main library YFinance\n",
    "try:\n",
    "    import yfinance as yf\n",
    "except:\n",
    "    !pip install yfinance\n",
    "    import yfinance as yf"
   ]
  },
  {
   "cell_type": "code",
   "execution_count": 2,
   "metadata": {},
   "outputs": [],
   "source": [
    "# IMPORTS\n",
    "import numpy as np\n",
    "import pandas as pd\n",
    "\n",
    "#Fin Data Sources\n",
    "import yfinance as yf\n",
    "import pandas_datareader as pdr\n",
    "\n",
    "#Data viz\n",
    "import plotly.graph_objs as go\n",
    "import plotly.express as px\n",
    "\n",
    "import time\n",
    "from datetime import date\n"
   ]
  },
  {
   "cell_type": "markdown",
   "metadata": {},
   "source": [
    "# Question 1: [Macro] Average growth of GDP in 2023\n",
    "\n",
    "What is the average growth (in %) of GDP in 2023?"
   ]
  },
  {
   "cell_type": "code",
   "execution_count": 3,
   "metadata": {},
   "outputs": [
    {
     "name": "stdout",
     "output_type": "stream",
     "text": [
      "Year = 2024; month= 4; day=20\n",
      "Period for indexes: 1954-04-20 to 2024-04-20 \n"
     ]
    }
   ],
   "source": [
    "end = date.today()\n",
    "print(f'Year = {end.year}; month= {end.month}; day={end.day}')\n",
    "\n",
    "start = date(year=end.year-70, month=end.month, day=end.day)\n",
    "print(f'Period for indexes: {start} to {end} ')"
   ]
  },
  {
   "cell_type": "code",
   "execution_count": 4,
   "metadata": {},
   "outputs": [],
   "source": [
    "# Real Potential Gross Domestic Product (GDPPOT), Billions of Chained 2012 Dollars, QUARTERLY\n",
    "# https://fred.stlouisfed.org/series/GDPPOT\n",
    "gdppot = pdr.DataReader(\"GDPPOT\", \"fred\", start=start)"
   ]
  },
  {
   "cell_type": "code",
   "execution_count": 5,
   "metadata": {},
   "outputs": [
    {
     "data": {
      "text/html": [
       "<div>\n",
       "<style scoped>\n",
       "    .dataframe tbody tr th:only-of-type {\n",
       "        vertical-align: middle;\n",
       "    }\n",
       "\n",
       "    .dataframe tbody tr th {\n",
       "        vertical-align: top;\n",
       "    }\n",
       "\n",
       "    .dataframe thead th {\n",
       "        text-align: right;\n",
       "    }\n",
       "</style>\n",
       "<table border=\"1\" class=\"dataframe\">\n",
       "  <thead>\n",
       "    <tr style=\"text-align: right;\">\n",
       "      <th></th>\n",
       "      <th>GDPPOT</th>\n",
       "      <th>gdppot_us_yoy</th>\n",
       "    </tr>\n",
       "    <tr>\n",
       "      <th>DATE</th>\n",
       "      <th></th>\n",
       "      <th></th>\n",
       "    </tr>\n",
       "  </thead>\n",
       "  <tbody>\n",
       "    <tr>\n",
       "      <th>1954-07-01</th>\n",
       "      <td>2922.682483</td>\n",
       "      <td>NaN</td>\n",
       "    </tr>\n",
       "    <tr>\n",
       "      <th>1954-10-01</th>\n",
       "      <td>2941.203176</td>\n",
       "      <td>NaN</td>\n",
       "    </tr>\n",
       "    <tr>\n",
       "      <th>1955-01-01</th>\n",
       "      <td>2959.166643</td>\n",
       "      <td>NaN</td>\n",
       "    </tr>\n",
       "    <tr>\n",
       "      <th>1955-04-01</th>\n",
       "      <td>2978.435270</td>\n",
       "      <td>NaN</td>\n",
       "    </tr>\n",
       "    <tr>\n",
       "      <th>1955-07-01</th>\n",
       "      <td>2997.302681</td>\n",
       "      <td>0.025531</td>\n",
       "    </tr>\n",
       "    <tr>\n",
       "      <th>...</th>\n",
       "      <td>...</td>\n",
       "      <td>...</td>\n",
       "    </tr>\n",
       "    <tr>\n",
       "      <th>2023-04-01</th>\n",
       "      <td>22246.230000</td>\n",
       "      <td>0.021312</td>\n",
       "    </tr>\n",
       "    <tr>\n",
       "      <th>2023-07-01</th>\n",
       "      <td>22369.710000</td>\n",
       "      <td>0.021719</td>\n",
       "    </tr>\n",
       "    <tr>\n",
       "      <th>2023-10-01</th>\n",
       "      <td>22495.190000</td>\n",
       "      <td>0.022190</td>\n",
       "    </tr>\n",
       "    <tr>\n",
       "      <th>2024-01-01</th>\n",
       "      <td>22618.150000</td>\n",
       "      <td>0.022251</td>\n",
       "    </tr>\n",
       "    <tr>\n",
       "      <th>2024-04-01</th>\n",
       "      <td>22739.000000</td>\n",
       "      <td>0.022151</td>\n",
       "    </tr>\n",
       "  </tbody>\n",
       "</table>\n",
       "<p>280 rows × 2 columns</p>\n",
       "</div>"
      ],
      "text/plain": [
       "                  GDPPOT  gdppot_us_yoy\n",
       "DATE                                   \n",
       "1954-07-01   2922.682483            NaN\n",
       "1954-10-01   2941.203176            NaN\n",
       "1955-01-01   2959.166643            NaN\n",
       "1955-04-01   2978.435270            NaN\n",
       "1955-07-01   2997.302681       0.025531\n",
       "...                  ...            ...\n",
       "2023-04-01  22246.230000       0.021312\n",
       "2023-07-01  22369.710000       0.021719\n",
       "2023-10-01  22495.190000       0.022190\n",
       "2024-01-01  22618.150000       0.022251\n",
       "2024-04-01  22739.000000       0.022151\n",
       "\n",
       "[280 rows x 2 columns]"
      ]
     },
     "execution_count": 5,
     "metadata": {},
     "output_type": "execute_result"
    }
   ],
   "source": [
    "gdppot['gdppot_us_yoy'] = gdppot.GDPPOT/gdppot.GDPPOT.shift(4)-1\n",
    "gdppot"
   ]
  },
  {
   "cell_type": "code",
   "execution_count": 6,
   "metadata": {},
   "outputs": [
    {
     "data": {
      "text/plain": [
       "2.2"
      ]
     },
     "execution_count": 6,
     "metadata": {},
     "output_type": "execute_result"
    }
   ],
   "source": [
    "round(gdppot[gdppot.index.year==2023]['gdppot_us_yoy'].mean()*100, 1)"
   ]
  },
  {
   "cell_type": "markdown",
   "metadata": {},
   "source": [
    "# Question 2. [Macro] Inverse \"Treasury Yield\"\n",
    "\n",
    "Find the min value of (dgs10-dgs2) after since year 2000 (2000-01-01) and write it down as an answer, round to 1 digit after the decimal point."
   ]
  },
  {
   "cell_type": "code",
   "execution_count": 7,
   "metadata": {},
   "outputs": [
    {
     "data": {
      "text/plain": [
       "-1.1"
      ]
     },
     "execution_count": 7,
     "metadata": {},
     "output_type": "execute_result"
    }
   ],
   "source": [
    "start = '2001-01-01'\n",
    "\n",
    "dgs2 = pdr.DataReader(\"DGS2\", \"fred\", start=start)\n",
    "dgs10 = pdr.DataReader(\"DGS10\", \"fred\", start=start)\n",
    "\n",
    "dgs_2_10 = pd.concat([dgs2,  dgs10], axis=1)\n",
    "round((dgs_2_10['DGS10'] - dgs_2_10['DGS2']).min(), 1)"
   ]
  },
  {
   "cell_type": "markdown",
   "metadata": {},
   "source": [
    "# Question 3. [Index] Which Index is better recently?\n",
    "\n",
    "Compare S&P 500 and IPC Mexico indexes by the 5 year growth and write down the largest value as an answer (%)"
   ]
  },
  {
   "cell_type": "code",
   "execution_count": 8,
   "metadata": {},
   "outputs": [
    {
     "name": "stderr",
     "output_type": "stream",
     "text": [
      "[*********************100%%**********************]  1 of 1 completed\n"
     ]
    },
    {
     "data": {
      "text/html": [
       "<div>\n",
       "<style scoped>\n",
       "    .dataframe tbody tr th:only-of-type {\n",
       "        vertical-align: middle;\n",
       "    }\n",
       "\n",
       "    .dataframe tbody tr th {\n",
       "        vertical-align: top;\n",
       "    }\n",
       "\n",
       "    .dataframe thead th {\n",
       "        text-align: right;\n",
       "    }\n",
       "</style>\n",
       "<table border=\"1\" class=\"dataframe\">\n",
       "  <thead>\n",
       "    <tr style=\"text-align: right;\">\n",
       "      <th></th>\n",
       "      <th>Open</th>\n",
       "      <th>High</th>\n",
       "      <th>Low</th>\n",
       "      <th>Close</th>\n",
       "      <th>Adj Close</th>\n",
       "      <th>Volume</th>\n",
       "    </tr>\n",
       "    <tr>\n",
       "      <th>Date</th>\n",
       "      <th></th>\n",
       "      <th></th>\n",
       "      <th></th>\n",
       "      <th></th>\n",
       "      <th></th>\n",
       "      <th></th>\n",
       "    </tr>\n",
       "  </thead>\n",
       "  <tbody>\n",
       "    <tr>\n",
       "      <th>2019-04-09</th>\n",
       "      <td>2886.580078</td>\n",
       "      <td>2886.879883</td>\n",
       "      <td>2873.330078</td>\n",
       "      <td>2878.199951</td>\n",
       "      <td>2878.199951</td>\n",
       "      <td>3032480000</td>\n",
       "    </tr>\n",
       "    <tr>\n",
       "      <th>2019-04-10</th>\n",
       "      <td>2881.370117</td>\n",
       "      <td>2889.709961</td>\n",
       "      <td>2879.129883</td>\n",
       "      <td>2888.209961</td>\n",
       "      <td>2888.209961</td>\n",
       "      <td>3092230000</td>\n",
       "    </tr>\n",
       "    <tr>\n",
       "      <th>2019-04-11</th>\n",
       "      <td>2891.919922</td>\n",
       "      <td>2893.419922</td>\n",
       "      <td>2881.989990</td>\n",
       "      <td>2888.320068</td>\n",
       "      <td>2888.320068</td>\n",
       "      <td>2970650000</td>\n",
       "    </tr>\n",
       "    <tr>\n",
       "      <th>2019-04-12</th>\n",
       "      <td>2900.860107</td>\n",
       "      <td>2910.540039</td>\n",
       "      <td>2898.370117</td>\n",
       "      <td>2907.409912</td>\n",
       "      <td>2907.409912</td>\n",
       "      <td>3726050000</td>\n",
       "    </tr>\n",
       "    <tr>\n",
       "      <th>2019-04-15</th>\n",
       "      <td>2908.320068</td>\n",
       "      <td>2909.600098</td>\n",
       "      <td>2896.479980</td>\n",
       "      <td>2905.580078</td>\n",
       "      <td>2905.580078</td>\n",
       "      <td>3114530000</td>\n",
       "    </tr>\n",
       "  </tbody>\n",
       "</table>\n",
       "</div>"
      ],
      "text/plain": [
       "                   Open         High          Low        Close    Adj Close  \\\n",
       "Date                                                                          \n",
       "2019-04-09  2886.580078  2886.879883  2873.330078  2878.199951  2878.199951   \n",
       "2019-04-10  2881.370117  2889.709961  2879.129883  2888.209961  2888.209961   \n",
       "2019-04-11  2891.919922  2893.419922  2881.989990  2888.320068  2888.320068   \n",
       "2019-04-12  2900.860107  2910.540039  2898.370117  2907.409912  2907.409912   \n",
       "2019-04-15  2908.320068  2909.600098  2896.479980  2905.580078  2905.580078   \n",
       "\n",
       "                Volume  \n",
       "Date                    \n",
       "2019-04-09  3032480000  \n",
       "2019-04-10  3092230000  \n",
       "2019-04-11  2970650000  \n",
       "2019-04-12  3726050000  \n",
       "2019-04-15  3114530000  "
      ]
     },
     "execution_count": 8,
     "metadata": {},
     "output_type": "execute_result"
    }
   ],
   "source": [
    "# INDEXES from Yahoo Finance\n",
    "# DAX index (XETRA - XETRA Delayed Price. Currency in EUR)\n",
    "# WEB: https://finance.yahoo.com/quote/%5EGDAXI\n",
    "\n",
    "start = '2019-04-09'\n",
    "end = '2024-04-09'\n",
    "\n",
    "GSPC_index = yf.download(tickers = \"^GSPC\",\n",
    "                     start = start,\n",
    "                     end = end)\n",
    "\n",
    "GSPC_index.head()"
   ]
  },
  {
   "cell_type": "code",
   "execution_count": 9,
   "metadata": {},
   "outputs": [
    {
     "name": "stderr",
     "output_type": "stream",
     "text": [
      "[*********************100%%**********************]  1 of 1 completed\n"
     ]
    },
    {
     "data": {
      "text/html": [
       "<div>\n",
       "<style scoped>\n",
       "    .dataframe tbody tr th:only-of-type {\n",
       "        vertical-align: middle;\n",
       "    }\n",
       "\n",
       "    .dataframe tbody tr th {\n",
       "        vertical-align: top;\n",
       "    }\n",
       "\n",
       "    .dataframe thead th {\n",
       "        text-align: right;\n",
       "    }\n",
       "</style>\n",
       "<table border=\"1\" class=\"dataframe\">\n",
       "  <thead>\n",
       "    <tr style=\"text-align: right;\">\n",
       "      <th></th>\n",
       "      <th>Open</th>\n",
       "      <th>High</th>\n",
       "      <th>Low</th>\n",
       "      <th>Close</th>\n",
       "      <th>Adj Close</th>\n",
       "      <th>Volume</th>\n",
       "    </tr>\n",
       "    <tr>\n",
       "      <th>Date</th>\n",
       "      <th></th>\n",
       "      <th></th>\n",
       "      <th></th>\n",
       "      <th></th>\n",
       "      <th></th>\n",
       "      <th></th>\n",
       "    </tr>\n",
       "  </thead>\n",
       "  <tbody>\n",
       "    <tr>\n",
       "      <th>2019-04-09</th>\n",
       "      <td>45346.828125</td>\n",
       "      <td>45346.828125</td>\n",
       "      <td>44854.531250</td>\n",
       "      <td>45151.628906</td>\n",
       "      <td>45151.628906</td>\n",
       "      <td>191575000</td>\n",
       "    </tr>\n",
       "    <tr>\n",
       "      <th>2019-04-10</th>\n",
       "      <td>45204.750000</td>\n",
       "      <td>45219.410156</td>\n",
       "      <td>44850.109375</td>\n",
       "      <td>44909.140625</td>\n",
       "      <td>44909.140625</td>\n",
       "      <td>145314900</td>\n",
       "    </tr>\n",
       "    <tr>\n",
       "      <th>2019-04-11</th>\n",
       "      <td>44872.531250</td>\n",
       "      <td>44966.500000</td>\n",
       "      <td>44373.488281</td>\n",
       "      <td>44580.058594</td>\n",
       "      <td>44580.058594</td>\n",
       "      <td>109090000</td>\n",
       "    </tr>\n",
       "    <tr>\n",
       "      <th>2019-04-12</th>\n",
       "      <td>44767.671875</td>\n",
       "      <td>44888.699219</td>\n",
       "      <td>44534.378906</td>\n",
       "      <td>44686.058594</td>\n",
       "      <td>44686.058594</td>\n",
       "      <td>143662400</td>\n",
       "    </tr>\n",
       "    <tr>\n",
       "      <th>2019-04-15</th>\n",
       "      <td>44649.738281</td>\n",
       "      <td>44900.929688</td>\n",
       "      <td>44347.531250</td>\n",
       "      <td>44625.781250</td>\n",
       "      <td>44625.781250</td>\n",
       "      <td>108627100</td>\n",
       "    </tr>\n",
       "  </tbody>\n",
       "</table>\n",
       "</div>"
      ],
      "text/plain": [
       "                    Open          High           Low         Close  \\\n",
       "Date                                                                 \n",
       "2019-04-09  45346.828125  45346.828125  44854.531250  45151.628906   \n",
       "2019-04-10  45204.750000  45219.410156  44850.109375  44909.140625   \n",
       "2019-04-11  44872.531250  44966.500000  44373.488281  44580.058594   \n",
       "2019-04-12  44767.671875  44888.699219  44534.378906  44686.058594   \n",
       "2019-04-15  44649.738281  44900.929688  44347.531250  44625.781250   \n",
       "\n",
       "               Adj Close     Volume  \n",
       "Date                                 \n",
       "2019-04-09  45151.628906  191575000  \n",
       "2019-04-10  44909.140625  145314900  \n",
       "2019-04-11  44580.058594  109090000  \n",
       "2019-04-12  44686.058594  143662400  \n",
       "2019-04-15  44625.781250  108627100  "
      ]
     },
     "execution_count": 9,
     "metadata": {},
     "output_type": "execute_result"
    }
   ],
   "source": [
    "MXX_index = yf.download(tickers = \"^MXX\",\n",
    "                     start = start,\n",
    "                     end = end)\n",
    "\n",
    "MXX_index.head()"
   ]
  },
  {
   "cell_type": "code",
   "execution_count": 10,
   "metadata": {},
   "outputs": [
    {
     "data": {
      "text/plain": [
       "(81, 28)"
      ]
     },
     "execution_count": 10,
     "metadata": {},
     "output_type": "execute_result"
    }
   ],
   "source": [
    "sp500_start_value = GSPC_index['Close'].iloc[0]\n",
    "sp500_end_value = GSPC_index['Close'].iloc[-1]\n",
    "\n",
    "ipc_mexico_start_value = MXX_index['Close'].iloc[0]\n",
    "ipc_mexico_end_value = MXX_index['Close'].iloc[-1]\n",
    "\n",
    "# Calculate the growth ratio for each index\n",
    "sp500_growth_ratio = sp500_end_value / sp500_start_value\n",
    "ipc_mexico_growth_ratio = ipc_mexico_end_value / ipc_mexico_start_value\n",
    "\n",
    "# Calculate the percentage growth for each index\n",
    "sp500_growth_percent = (sp500_growth_ratio - 1) * 100\n",
    "ipc_mexico_growth_percent = (ipc_mexico_growth_ratio - 1) * 100\n",
    "\n",
    "round(sp500_growth_percent), round(ipc_mexico_growth_percent)"
   ]
  },
  {
   "cell_type": "markdown",
   "metadata": {},
   "source": [
    "# Question 4. [Stocks OHLCV] 52-weeks range ratio (2023) for the selected stocks\n",
    "\n",
    "Find the largest range ratio [=(max-min)/max] of Adj.Close prices in 2023"
   ]
  },
  {
   "cell_type": "code",
   "execution_count": 11,
   "metadata": {},
   "outputs": [],
   "source": [
    "def range_ratio(ticker, start, end):\n",
    "    adj_Close = yf.download(tickers=ticker, start=start, end=end)['Adj Close']\n",
    "    return round((adj_Close.max()-adj_Close.min())/adj_Close.max(), 2)"
   ]
  },
  {
   "cell_type": "code",
   "execution_count": 13,
   "metadata": {},
   "outputs": [
    {
     "name": "stderr",
     "output_type": "stream",
     "text": [
      "[*********************100%%**********************]  1 of 1 completed\n",
      "[*********************100%%**********************]  1 of 1 completed\n",
      "[*********************100%%**********************]  1 of 1 completed\n",
      "[*********************100%%**********************]  1 of 1 completed\n",
      "[*********************100%%**********************]  1 of 1 completed\n",
      "[*********************100%%**********************]  1 of 1 completed\n"
     ]
    }
   ],
   "source": [
    "start = '2023-01-01'\n",
    "end = '2023-12-31' \n",
    "\n",
    "top_stocks = ['2222.SR', 'BRK-B', 'AAPL', 'MSFT', 'GOOG', 'JPM']\n",
    "\n",
    "range_ratio_stocks = [range_ratio(ticker, start, end) for ticker in top_stocks]"
   ]
  },
  {
   "cell_type": "code",
   "execution_count": 30,
   "metadata": {},
   "outputs": [
    {
     "data": {
      "text/html": [
       "<div>\n",
       "<style scoped>\n",
       "    .dataframe tbody tr th:only-of-type {\n",
       "        vertical-align: middle;\n",
       "    }\n",
       "\n",
       "    .dataframe tbody tr th {\n",
       "        vertical-align: top;\n",
       "    }\n",
       "\n",
       "    .dataframe thead th {\n",
       "        text-align: right;\n",
       "    }\n",
       "</style>\n",
       "<table border=\"1\" class=\"dataframe\">\n",
       "  <thead>\n",
       "    <tr style=\"text-align: right;\">\n",
       "      <th></th>\n",
       "      <th>0</th>\n",
       "    </tr>\n",
       "  </thead>\n",
       "  <tbody>\n",
       "    <tr>\n",
       "      <th>2222.SR</th>\n",
       "      <td>0.21</td>\n",
       "    </tr>\n",
       "    <tr>\n",
       "      <th>BRK-B</th>\n",
       "      <td>0.21</td>\n",
       "    </tr>\n",
       "    <tr>\n",
       "      <th>AAPL</th>\n",
       "      <td>0.37</td>\n",
       "    </tr>\n",
       "    <tr>\n",
       "      <th>MSFT</th>\n",
       "      <td>0.42</td>\n",
       "    </tr>\n",
       "    <tr>\n",
       "      <th>GOOG</th>\n",
       "      <td>0.39</td>\n",
       "    </tr>\n",
       "    <tr>\n",
       "      <th>JPM</th>\n",
       "      <td>0.28</td>\n",
       "    </tr>\n",
       "  </tbody>\n",
       "</table>\n",
       "</div>"
      ],
      "text/plain": [
       "            0\n",
       "2222.SR  0.21\n",
       "BRK-B    0.21\n",
       "AAPL     0.37\n",
       "MSFT     0.42\n",
       "GOOG     0.39\n",
       "JPM      0.28"
      ]
     },
     "execution_count": 30,
     "metadata": {},
     "output_type": "execute_result"
    }
   ],
   "source": [
    "pd.DataFrame([dict(zip(top_stocks, range_ratio_stocks))]).T"
   ]
  },
  {
   "cell_type": "markdown",
   "metadata": {},
   "source": [
    "# Question 5. [Stocks] Dividend Yield\n",
    "\n",
    "Find the largest dividend yield for the same set of stocks"
   ]
  },
  {
   "cell_type": "code",
   "execution_count": 24,
   "metadata": {},
   "outputs": [],
   "source": [
    "def div_adjclose(ticker, start, end):\n",
    "    epi = yf.Ticker(ticker)\n",
    "    dividends = epi.get_actions()['Dividends']\n",
    "    dividends = dividends[(dividends.index >= start) & (dividends.index <= end)]\n",
    "    adj_Close = yf.download(tickers=ticker, start=start, end=end)['Adj Close']\n",
    "    return round(100*dividends.sum()/adj_Close.iloc[-1], 1)"
   ]
  },
  {
   "cell_type": "code",
   "execution_count": 25,
   "metadata": {},
   "outputs": [
    {
     "name": "stderr",
     "output_type": "stream",
     "text": [
      "[*********************100%%**********************]  1 of 1 completed\n",
      "[*********************100%%**********************]  1 of 1 completed\n",
      "[*********************100%%**********************]  1 of 1 completed\n",
      "[*********************100%%**********************]  1 of 1 completed\n",
      "[*********************100%%**********************]  1 of 1 completed\n",
      "[*********************100%%**********************]  1 of 1 completed\n"
     ]
    }
   ],
   "source": [
    "\n",
    "div_adjclose_stocks = [div_adjclose(ticker, start, end) for ticker in top_stocks]"
   ]
  },
  {
   "cell_type": "code",
   "execution_count": 29,
   "metadata": {},
   "outputs": [
    {
     "data": {
      "text/html": [
       "<div>\n",
       "<style scoped>\n",
       "    .dataframe tbody tr th:only-of-type {\n",
       "        vertical-align: middle;\n",
       "    }\n",
       "\n",
       "    .dataframe tbody tr th {\n",
       "        vertical-align: top;\n",
       "    }\n",
       "\n",
       "    .dataframe thead th {\n",
       "        text-align: right;\n",
       "    }\n",
       "</style>\n",
       "<table border=\"1\" class=\"dataframe\">\n",
       "  <thead>\n",
       "    <tr style=\"text-align: right;\">\n",
       "      <th></th>\n",
       "      <th>0</th>\n",
       "    </tr>\n",
       "  </thead>\n",
       "  <tbody>\n",
       "    <tr>\n",
       "      <th>2222.SR</th>\n",
       "      <td>2.8</td>\n",
       "    </tr>\n",
       "    <tr>\n",
       "      <th>BRK-B</th>\n",
       "      <td>0.0</td>\n",
       "    </tr>\n",
       "    <tr>\n",
       "      <th>AAPL</th>\n",
       "      <td>0.5</td>\n",
       "    </tr>\n",
       "    <tr>\n",
       "      <th>MSFT</th>\n",
       "      <td>0.7</td>\n",
       "    </tr>\n",
       "    <tr>\n",
       "      <th>GOOG</th>\n",
       "      <td>0.0</td>\n",
       "    </tr>\n",
       "    <tr>\n",
       "      <th>JPM</th>\n",
       "      <td>2.4</td>\n",
       "    </tr>\n",
       "  </tbody>\n",
       "</table>\n",
       "</div>"
      ],
      "text/plain": [
       "           0\n",
       "2222.SR  2.8\n",
       "BRK-B    0.0\n",
       "AAPL     0.5\n",
       "MSFT     0.7\n",
       "GOOG     0.0\n",
       "JPM      2.4"
      ]
     },
     "execution_count": 29,
     "metadata": {},
     "output_type": "execute_result"
    }
   ],
   "source": [
    "pd.DataFrame([dict(zip(top_stocks, div_adjclose_stocks))]).T"
   ]
  },
  {
   "cell_type": "markdown",
   "metadata": {},
   "source": [
    "# Question 6. [Exploratory] Investigate new metrics\n",
    "\n",
    "Free text answer"
   ]
  },
  {
   "cell_type": "code",
   "execution_count": 33,
   "metadata": {},
   "outputs": [
    {
     "name": "stderr",
     "output_type": "stream",
     "text": [
      "[*********************100%%**********************]  1 of 1 completed"
     ]
    },
    {
     "name": "stdout",
     "output_type": "stream",
     "text": [
      "The maximum drawdown of the S&P 500 in the last 20 years is: -56.78%\n"
     ]
    },
    {
     "name": "stderr",
     "output_type": "stream",
     "text": [
      "\n"
     ]
    }
   ],
   "source": [
    "def calculate_max_drawdown(ticker, years=20):\n",
    "\n",
    "    end_date = pd.Timestamp.today()\n",
    "    start_date = end_date - pd.DateOffset(years=years)\n",
    "    data = yf.download(ticker, start=start_date, end=end_date)\n",
    "\n",
    "    data['Returns'] = data['Adj Close'].pct_change()\n",
    "\n",
    "    data['Wealth_Index'] = (1 + data['Returns']).cumprod()\n",
    "\n",
    "    data['Previous_Peaks'] = data['Wealth_Index'].cummax()\n",
    "\n",
    "    data['Drawdown'] = (data['Wealth_Index'] - data['Previous_Peaks']) / data['Previous_Peaks']\n",
    "\n",
    "    max_drawdown = data['Drawdown'].min()\n",
    "    return max_drawdown\n",
    "\n",
    "\n",
    "max_drawdown_sp500 = calculate_max_drawdown(\"^GSPC\")\n",
    "print(f\"The maximum drawdown of the S&P 500 in the last 20 years is: {max_drawdown_sp500*100:.2f}%\")\n"
   ]
  },
  {
   "cell_type": "markdown",
   "metadata": {},
   "source": [
    "The maximum drawdown is a critical risk metric for assessing the potential downside of an investment portfolio. It measures the largest peak-to-trough decline in the value of an investment before a new peak is achieved.\n",
    "\n",
    "The maximum drawdown is essential because it provides a clear measure of the most significant drop an investment has faced from peak to trough, which helps investors understand the risk of substantial losses. For instance, the S&P 500 experienced a maximum drawdown of -56.78% over the last 20 years, highlighting the level of potential financial risk during severe market downturns. This example underlines the importance of the metric for risk assessment and financial planning."
   ]
  },
  {
   "cell_type": "markdown",
   "metadata": {},
   "source": [
    "# Question 7. [Exploratory] Time-driven strategy description around earnings releases "
   ]
  },
  {
   "cell_type": "markdown",
   "metadata": {},
   "source": [
    "Based on the earnings data, here's a potential strategy to select companies of interest:\n",
    "\n",
    "- Identify Companies Beating Estimates: Look for companies that reported earnings exceeding analysts expectations in the previous week. These companies might experience a stock price increase following the positive news.\n",
    "\n",
    "- Focus on Upcoming Reports: From the upcoming earnings calendar, select companies in industries with positive outlooks or recent positive news. Analyze their past performance and analyst ratings.\n",
    "\n",
    "- Compare Price Movement: Compare the stock price movement of companies exceeding estimates in the previous week with the overall market performance.\n",
    "\n",
    "By combining information from past and upcoming earnings reports, I can develop a watchlist of companies with potentially significant price movements in the coming weeks."
   ]
  },
  {
   "cell_type": "markdown",
   "metadata": {},
   "source": []
  }
 ],
 "metadata": {
  "kernelspec": {
   "display_name": "ml_trading",
   "language": "python",
   "name": "python3"
  },
  "language_info": {
   "codemirror_mode": {
    "name": "ipython",
    "version": 3
   },
   "file_extension": ".py",
   "mimetype": "text/x-python",
   "name": "python",
   "nbconvert_exporter": "python",
   "pygments_lexer": "ipython3",
   "version": "3.9.16"
  }
 },
 "nbformat": 4,
 "nbformat_minor": 2
}
